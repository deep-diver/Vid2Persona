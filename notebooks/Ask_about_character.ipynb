{
  "cells": [
    {
      "cell_type": "markdown",
      "metadata": {
        "id": "view-in-github",
        "colab_type": "text"
      },
      "source": [
        "<a href=\"https://colab.research.google.com/github/deep-diver/Vid2Persona/blob/main/notebooks/Ask_about_character.ipynb\" target=\"_parent\"><img src=\"https://colab.research.google.com/assets/colab-badge.svg\" alt=\"Open In Colab\"/></a>"
      ]
    },
    {
      "cell_type": "markdown",
      "metadata": {
        "id": "ddSBgL68Zu8j"
      },
      "source": [
        "# Ask about Video clip with Gemini 1.0 Pro Vision on Vertex AI"
      ]
    },
    {
      "cell_type": "code",
      "execution_count": null,
      "metadata": {
        "id": "Rx6vrvyfBDcd"
      },
      "outputs": [],
      "source": [
        "!pip install --upgrade google-cloud-aiplatform"
      ]
    },
    {
      "cell_type": "code",
      "source": [
        "from IPython.display import Markdown, display"
      ],
      "metadata": {
        "id": "a3csqdgWy8-Z"
      },
      "execution_count": 2,
      "outputs": []
    },
    {
      "cell_type": "markdown",
      "metadata": {
        "id": "u1IQpbbTZ60q"
      },
      "source": [
        "## Authentication to Vertex AI with `gcloud`"
      ]
    },
    {
      "cell_type": "code",
      "execution_count": 3,
      "metadata": {
        "id": "Fv1mYIWcD9dB",
        "colab": {
          "base_uri": "https://localhost:8080/"
        },
        "outputId": "f1c69e89-bcc6-4c9b-ffc7-42cface19877"
      },
      "outputs": [
        {
          "output_type": "stream",
          "name": "stdout",
          "text": [
            "Go to the following link in your browser:\n",
            "\n",
            "    https://accounts.google.com/o/oauth2/auth?response_type=code&client_id=764086051850-6qr4p6gpi6hn506pt8ejuq83di341hur.apps.googleusercontent.com&redirect_uri=https%3A%2F%2Fsdk.cloud.google.com%2Fapplicationdefaultauthcode.html&scope=openid+https%3A%2F%2Fwww.googleapis.com%2Fauth%2Fuserinfo.email+https%3A%2F%2Fwww.googleapis.com%2Fauth%2Fcloud-platform+https%3A%2F%2Fwww.googleapis.com%2Fauth%2Fsqlservice.login&state=vqPaFBd2sQrNAuctRbS6f0T91AXH9R&prompt=consent&token_usage=remote&access_type=offline&code_challenge=vzahrDrqQsH6lwRwBVsekZeG8vDMniJ34ZYB_zMvn-I&code_challenge_method=S256\n",
            "\n",
            "Enter authorization code: 4/0AeaYSHAeFzH5IlfDzvLcvZas1zKe_4MH79mfJ5q8rbkXxveeYDkdpTOzD1p6Xd9skYb7Lg\n",
            "\n",
            "Credentials saved to file: [/content/.config/application_default_credentials.json]\n",
            "\n",
            "These credentials will be used by any library that requests Application Default Credentials (ADC).\n",
            "\u001b[1;33mWARNING:\u001b[0m \n",
            "Cannot find a quota project to add to ADC. You might receive a \"quota exceeded\" or \"API not enabled\" error. Run $ gcloud auth application-default set-quota-project to add a quota project.\n"
          ]
        }
      ],
      "source": [
        "!gcloud auth application-default login\n",
        "\n",
        "# or do the same thing without interrupting prompt\n",
        "#\n",
        "# export GOOGLE_APPLICATION_CREDENTIALS=\"/path/to/your/service_account_key.json\"\n",
        "# gcloud auth application-default login --client-id-file=/path/to/your/service_account_key.json"
      ]
    },
    {
      "cell_type": "markdown",
      "metadata": {
        "id": "Ai1E5s7XaC04"
      },
      "source": [
        "## Setup GCP Project and Location"
      ]
    },
    {
      "cell_type": "code",
      "execution_count": 4,
      "metadata": {
        "id": "N5fpTuQhCnN5"
      },
      "outputs": [],
      "source": [
        "GCP_PROJECT_ID=\"gde-prj\"\n",
        "GCP_PROJECT_LOCATION=\"us-central1\""
      ]
    },
    {
      "cell_type": "markdown",
      "metadata": {
        "id": "JfTetkgpcQ5n"
      },
      "source": [
        "## Define Gemini call function"
      ]
    },
    {
      "cell_type": "code",
      "execution_count": 5,
      "metadata": {
        "id": "-oCtUjGDBVYr"
      },
      "outputs": [],
      "source": [
        "import base64\n",
        "import vertexai\n",
        "from vertexai.generative_models import GenerativeModel, Part, GenerationResponse, GenerationConfig\n",
        "\n",
        "def initi_vertexai(project_id: str, location: str) -> None:\n",
        "    vertexai.init(project=project_id, location=location)\n",
        "\n",
        "def ask_gemini(\n",
        "    prompt: str=None, gcs: str=None, base64_encoded: bytes=None, stream: bool=False, generation_config: dict=None\n",
        ") -> GenerationResponse:\n",
        "    if gcs is None and base64_encoded is None:\n",
        "        raise ValueError(\"Either a GCS bucket path or base64_encoded string of the video must be provided\")\n",
        "\n",
        "    if gcs is not None and base64_encoded is not None:\n",
        "        raise ValueError(\"Only one of gcs or base64_encoded must be provided\")\n",
        "\n",
        "    if gcs is not None:\n",
        "        video = Part.from_uri(gcs, mime_type=\"video/mp4\")\n",
        "    else:\n",
        "        video = Part.from_data(data=base64.b64decode(base64_encoded), mime_type=\"video/mp4\")\n",
        "\n",
        "    if prompt is None:\n",
        "        prompt = \"What is in the video?\"\n",
        "\n",
        "    if generation_config is None:\n",
        "        generation_config = GenerationConfig(\n",
        "            max_output_tokens=2048,\n",
        "            temperature=0.4,\n",
        "            top_p=1,\n",
        "            top_k=32\n",
        "        )\n",
        "\n",
        "    vision_model = GenerativeModel(\"gemini-1.0-pro-vision\")\n",
        "    return vision_model.generate_content(\n",
        "        [video, prompt],\n",
        "        generation_config=generation_config, stream=stream\n",
        "    )"
      ]
    },
    {
      "cell_type": "markdown",
      "source": [
        "## Define base64 encoding function"
      ],
      "metadata": {
        "id": "QJJz4m7-zIrc"
      }
    },
    {
      "cell_type": "code",
      "source": [
        "def get_base64_encode(file_path):\n",
        "    with open(file_path, 'rb') as f:\n",
        "        data = f.read()\n",
        "\n",
        "    return base64.b64encode(data)"
      ],
      "metadata": {
        "id": "Gt2AMKHQsE8S"
      },
      "execution_count": 8,
      "outputs": []
    },
    {
      "cell_type": "code",
      "source": [
        "!git clone https://github.com/deep-diver/Vid2Persona.git\n",
        "!mv Vid2Persona/assets/*.mp4 ."
      ],
      "metadata": {
        "id": "RjEQnt3t6t8B",
        "outputId": "3ed74169-79fc-4a83-8687-8f937c603d33",
        "colab": {
          "base_uri": "https://localhost:8080/"
        }
      },
      "execution_count": 6,
      "outputs": [
        {
          "output_type": "stream",
          "name": "stdout",
          "text": [
            "Cloning into 'Vid2Persona'...\n",
            "remote: Enumerating objects: 42, done.\u001b[K\n",
            "remote: Counting objects: 100% (2/2), done.\u001b[K\n",
            "remote: Compressing objects: 100% (2/2), done.\u001b[K\n",
            "remote: Total 42 (delta 0), reused 0 (delta 0), pack-reused 40\u001b[K\n",
            "Receiving objects: 100% (42/42), 62.02 MiB | 36.39 MiB/s, done.\n",
            "Resolving deltas: 100% (8/8), done.\n"
          ]
        }
      ]
    },
    {
      "cell_type": "code",
      "source": [
        "sample1 = get_base64_encode(\"sample1.mp4\")\n",
        "sample2 = get_base64_encode(\"sample2.mp4\")\n",
        "sample3 = get_base64_encode(\"sample3.mp4\")\n",
        "sample4 = get_base64_encode(\"sample4.mp4\")"
      ],
      "metadata": {
        "id": "wsVTq1bdsQmo"
      },
      "execution_count": 9,
      "outputs": []
    },
    {
      "cell_type": "markdown",
      "source": [
        "## Define common prompt"
      ],
      "metadata": {
        "id": "A5PJ_SIMzPdo"
      }
    },
    {
      "cell_type": "code",
      "source": [
        "prompt = \"\"\"\n",
        "arefully analyze the provided video clip to identify and extract detailed information about the main character(s) featured. Pay attention to visual elements, spoken dialogue, character interactions, and any narrative cues that reveal aspects of the character's personality, physical appearance, behaviors, and background.\n",
        "\n",
        "Your task is to construct a rich, imaginative character profile based on your observations, and where explicit information is not available, you are encouraged to use your creativity to fill in the gaps. The goal is to create a vivid, believable character profile that can be used to simulate conversation with a language model as if it were the character itself.\n",
        "\n",
        "Format the extracted data as a structured JSON object containing the following fields for each main character:\n",
        "\n",
        "name: The character's name as mentioned or inferred in the video. If not provided, create a suitable name that matches the character's traits and context.\n",
        "physicalDescription: Describe the character's appearance, including hair color, eye color, height, and distinctive features. Use imaginative details if necessary to provide a complete picture.\n",
        "personalityTraits: List descriptive adjectives or phrases that capture the character's personality, based on their actions and dialogue. Invent traits as needed to ensure a well-rounded personality.\n",
        "likes: Specify things, activities, or concepts the character enjoys or values, deduced or imagined from their behavior and interactions.\n",
        "dislikes: Note what the character appears to dislike or avoid, filling in creatively where direct evidence is not available.\n",
        "background: Provide background information such as occupation, family ties, or significant life events, inferring where possible or inventing details to add depth to the character's story.\n",
        "goals: Describe the character's apparent motivations and objectives, whether explicitly stated or implied. Where not directly observable, construct plausible goals that align with the character's portrayed or inferred traits.\n",
        "relationships: Detail the character's relationships with other characters, including the nature of each relationship and the names of other characters involved. Use creative license to elaborate on these relationships if the video provides limited information.\n",
        "Ensure the JSON object is well-structured and comprehensive, ready for integration with a language model to facilitate engaging conversations as if with the character itself. For multiple main characters, provide a distinct profile for each within the same JSON object.\n",
        "\"\"\""
      ],
      "metadata": {
        "id": "MDNxhnORtPXu"
      },
      "execution_count": 10,
      "outputs": []
    },
    {
      "cell_type": "markdown",
      "source": [
        "## Let's ask!"
      ],
      "metadata": {
        "id": "lacOyE4izTJO"
      }
    },
    {
      "cell_type": "markdown",
      "source": [
        "### on Sample1"
      ],
      "metadata": {
        "id": "EFryD2hFsnCz"
      }
    },
    {
      "cell_type": "code",
      "source": [
        "initi_vertexai(GCP_PROJECT_ID, GCP_PROJECT_LOCATION)\n",
        "try:\n",
        "    response = ask_gemini(\n",
        "        prompt=prompt,\n",
        "        base64_encoded=sample1\n",
        "    )\n",
        "    display(Markdown(response.text))\n",
        "except Exception as e:\n",
        "    print(f\"something went wrong {e}\")"
      ],
      "metadata": {
        "colab": {
          "base_uri": "https://localhost:8080/",
          "height": 714
        },
        "id": "T-0Oewvzsd5z",
        "outputId": "08f9123a-a5db-4ba2-cf0b-ffc39b9ef525"
      },
      "execution_count": 11,
      "outputs": [
        {
          "output_type": "stream",
          "name": "stderr",
          "text": [
            "/usr/local/lib/python3.10/dist-packages/google/auth/_default.py:76: UserWarning: Your application has authenticated using end user credentials from Google Cloud SDK without a quota project. You might receive a \"quota exceeded\" or \"API not enabled\" error. See the following page for troubleshooting: https://cloud.google.com/docs/authentication/adc-troubleshooting/user-creds. \n",
            "  warnings.warn(_CLOUD_SDK_CREDENTIALS_WARNING)\n"
          ]
        },
        {
          "output_type": "display_data",
          "data": {
            "text/plain": [
              "<IPython.core.display.Markdown object>"
            ],
            "text/markdown": " ```json\n{\n  \"characters\": [\n    {\n      \"name\": \"Alice\",\n      \"physicalDescription\": \"Alice is a young woman with long, wavy brown hair and hazel eyes. She is of average height and has a slim build. Her most distinctive feature is her warm, friendly smile.\",\n      \"personalityTraits\": [\n        \"Alice is a kind, compassionate, and intelligent woman. She is always willing to help others and is a great listener. She is also very creative and has a great sense of humor.\",\n      ],\n      \"likes\": [\n        \"Alice loves spending time with her friends and family.\",\n        \"She enjoys reading, writing, and listening to music.\",\n        \"She is also a big fan of traveling and exploring new places.\"\n      ],\n      \"dislikes\": [\n        \"Alice dislikes rudeness and cruelty.\",\n        \"She also dislikes being lied to or taken advantage of.\",\n        \"She is not a fan of heights or roller coasters.\"\n      ],\n      \"background\": [\n        \"Alice grew up in a small town in the Midwest.\",\n        \"She was always a good student and excelled in her studies.\",\n        \"After graduating from high school, she moved to the city to attend college.\",\n        \"She is currently working as a social worker.\"\n      ],\n      \"goals\": [\n        \"Alice wants to make a difference in the world.\",\n        \"She hopes to one day open her own counseling practice.\",\n        \"She also wants to travel the world and experience different cultures.\"\n      ],\n      \"relationships\": [\n        \"Alice is very close to her family and friends.\",\n        \"She is also in a loving relationship with her partner, Ben.\",\n        \"She has a good relationship with her colleagues and is well-respected by her clients.\"\n      ]\n    }\n  ]\n}\n```"
          },
          "metadata": {}
        }
      ]
    },
    {
      "cell_type": "markdown",
      "source": [
        "### on Sample2"
      ],
      "metadata": {
        "id": "3oZQzFsazXPJ"
      }
    },
    {
      "cell_type": "code",
      "source": [
        "initi_vertexai(GCP_PROJECT_ID, GCP_PROJECT_LOCATION)\n",
        "try:\n",
        "    response = ask_gemini(\n",
        "        prompt=prompt,\n",
        "        base64_encoded=sample2\n",
        "    )\n",
        "    display(Markdown(response.text))\n",
        "except Exception as e:\n",
        "    print(f\"something went wrong {e}\")"
      ],
      "metadata": {
        "colab": {
          "base_uri": "https://localhost:8080/",
          "height": 506
        },
        "id": "ZsuGWPcmsq0r",
        "outputId": "2f6dc7a6-92b5-44a8-e3c1-2c7e4464639c"
      },
      "execution_count": 12,
      "outputs": [
        {
          "output_type": "display_data",
          "data": {
            "text/plain": [
              "<IPython.core.display.Markdown object>"
            ],
            "text/markdown": " ```json\n{\n  \"name\": \"Little Furry\",\n  \"physicalDescription\": \"Little Furry is a small, furry creature with big, round eyes and a long, bushy tail. Its fur is a light brown color, and it has a white belly. It has two small horns on its head and a pair of wings on its back, but it is still too young to fly.\",\n  \"personalityTraits\": [\"Curious\", \"Playful\", \"Mischievous\", \"Loyal\", \"Protective\"],\n  \"likes\": [\"Playing with candles\", \"Exploring the forest\", \"Making new friends\", \"Helping others\"],\n  \"dislikes\": [\"Being alone\", \"Darkness\", \"Loud noises\", \"Being told what to do\"],\n  \"background\": \"Little Furry is a young creature who lives in the forest with its family. It is still learning about the world and loves to explore and play. It is very curious and loves to learn new things.\",\n  \"goals\": [\"To make new friends\", \"To learn about the world\", \"To help others\", \"To have fun\"],\n  \"relationships\": [\n    {\n      \"name\": \"Mother Furry\",\n      \"relation\": \"Little Furry's mother\"\n    },\n    {\n      \"name\": \"Father Furry\",\n      \"relation\": \"Little Furry's father\"\n    },\n    {\n      \"name\": \"Big Furry\",\n      \"relation\": \"Little Furry's older sibling\"\n    },\n    {\n      \"name\": \"Little Furry's Friends\",\n      \"relation\": \"Little Furry's friends\"\n    }\n  ]\n}\n```"
          },
          "metadata": {}
        }
      ]
    },
    {
      "cell_type": "markdown",
      "source": [
        "### on Sample3"
      ],
      "metadata": {
        "id": "kXb4g4hMzYSb"
      }
    },
    {
      "cell_type": "code",
      "source": [
        "initi_vertexai(GCP_PROJECT_ID, GCP_PROJECT_LOCATION)\n",
        "try:\n",
        "    response = ask_gemini(\n",
        "        prompt=prompt,\n",
        "        base64_encoded=sample3\n",
        "    )\n",
        "    display(Markdown(response.text))\n",
        "except Exception as e:\n",
        "    print(f\"something went wrong {e}\")"
      ],
      "metadata": {
        "colab": {
          "base_uri": "https://localhost:8080/",
          "height": 975
        },
        "id": "8bZ-xfinvGpZ",
        "outputId": "9fc416ba-1188-461a-9c0d-d412386b5061"
      },
      "execution_count": 13,
      "outputs": [
        {
          "output_type": "display_data",
          "data": {
            "text/plain": [
              "<IPython.core.display.Markdown object>"
            ],
            "text/markdown": " ```json\n{\n  \"characters\": [\n    {\n      \"name\": \"Jane Doe\",\n      \"physicalDescription\": \"Jane is a young woman in her early 20s, with long, dark hair and piercing blue eyes. She is of average height and has a slim build. Her most distinctive feature is her warm, friendly smile.\",\n      \"personalityTraits\": [\n        \"Confident\",\n        \"Optimistic\",\n        \"Independent\",\n        \"Curious\",\n        \"Determined\"\n      ],\n      \"likes\": [\n        \"Exploring new places\",\n        \"Learning new things\",\n        \"Spending time with friends and family\",\n        \"Helping others\",\n        \"Making a difference in the world\"\n      ],\n      \"dislikes\": [\n        \"Injustice\",\n        \"Cruelty\",\n        \"Ignorance\",\n        \"Laziness\",\n        \"Negativity\"\n      ],\n      \"background\": \"Jane grew up in a small town in the Midwest. She was always a good student and excelled in her studies. After graduating from high school, she moved to the big city to attend university. She is currently working as a journalist for a local newspaper.\",\n      \"goals\": [\n        \"To become a successful journalist\",\n        \"To make a difference in the world\",\n        \"To help others\",\n        \"To learn new things\",\n        \"To grow as a person\"\n      ],\n      \"relationships\": [\n        {\n          \"name\": \"John Smith\",\n          \"nature\": \"Jane's boyfriend\",\n          \"description\": \"John is a kind and supportive boyfriend. He is always there for Jane and helps her through tough times.\"\n        },\n        {\n          \"name\": \"Mary Johnson\",\n          \"nature\": \"Jane's best friend\",\n          \"description\": \"Mary is Jane's best friend. They have been friends since childhood and share everything with each other.\"\n        },\n        {\n          \"name\": \"Jane's parents\",\n          \"nature\": \"Jane's parents\",\n          \"description\": \"Jane's parents are loving and supportive. They have always been there for Jane and encouraged her to follow her dreams.\"\n        }\n      ]\n    }\n  ]\n}\n```"
          },
          "metadata": {}
        }
      ]
    },
    {
      "cell_type": "markdown",
      "source": [
        "### on Sample4"
      ],
      "metadata": {
        "id": "TI9xWmR2zZVd"
      }
    },
    {
      "cell_type": "code",
      "source": [
        "initi_vertexai(GCP_PROJECT_ID, GCP_PROJECT_LOCATION)\n",
        "try:\n",
        "    response = ask_gemini(\n",
        "        prompt=prompt,\n",
        "        base64_encoded=sample4\n",
        "    )\n",
        "    display(Markdown(response.text))\n",
        "except Exception as e:\n",
        "    print(f\"something went wrong {e}\")"
      ],
      "metadata": {
        "colab": {
          "base_uri": "https://localhost:8080/",
          "height": 766
        },
        "id": "z68Q0nxzvQGy",
        "outputId": "e6a7f566-9ae0-41ef-c66c-06c7cd7b250a"
      },
      "execution_count": 14,
      "outputs": [
        {
          "output_type": "display_data",
          "data": {
            "text/plain": [
              "<IPython.core.display.Markdown object>"
            ],
            "text/markdown": " ```json\n{\n  \"characters\": [\n    {\n      \"name\": \"Jean-Pierre\",\n      \"physicalDescription\": \"Jean-Pierre is a tall, slender man with silver hair and a thick beard. He wears glasses and has a warm, friendly smile. He is usually seen wearing a brown beret and a tweed jacket.\",\n      \"personalityTraits\": [\n        \"Jean-Pierre is a kind and compassionate man.\",\n        \"He is also very intelligent and well-read.\",\n        \"He is a bit of a loner, but he enjoys spending time with his friends and family.\",\n        \"He is always willing to help others, and he is always looking for ways to make the world a better place.\"\n      ],\n      \"likes\": [\n        \"Jean-Pierre loves to read, especially history and philosophy.\",\n        \"He also enjoys spending time in nature, and he is an avid birdwatcher.\",\n        \"He is a big fan of classical music, and he often goes to concerts.\"\n      ],\n      \"dislikes\": [\n        \"Jean-Pierre dislikes cruelty and injustice.\",\n        \"He also dislikes loud noises and crowds.\",\n        \"He is not a fan of modern technology, and he prefers to live a simple life.\"\n      ],\n      \"background\": [\n        \"Jean-Pierre was born in Paris, France, in 1950.\",\n        \"He grew up in a large family, and he was the youngest of five children.\",\n        \"His father was a professor, and his mother was a stay-at-home mom.\",\n        \"Jean-Pierre was a good student, and he went on to study at the Sorbonne.\",\n        \"After graduating, he worked as a teacher for several years.\",\n        \"He then decided to pursue his passion for writing, and he became a full-time writer.\"\n      ],\n      \"goals\": [\n        \"Jean-Pierre's goal is to write books that make a difference in the world.\",\n        \"He wants to write books that inspire people to think and to act.\",\n        \"He also wants to write books that make people laugh and cry.\"\n      ],\n      \"relationships\": [\n        \"Jean-Pierre is married to a woman named Marie.\",\n        \"They have two children, a son named Paul and a daughter named Sophie.\",\n        \"Jean-Pierre is very close to his family, and he loves spending time with them.\"\n      ]\n    }\n  ]\n}\n```"
          },
          "metadata": {}
        }
      ]
    },
    {
      "cell_type": "code",
      "source": [],
      "metadata": {
        "id": "cWMUVGqcvlSE"
      },
      "execution_count": 14,
      "outputs": []
    }
  ],
  "metadata": {
    "colab": {
      "provenance": [],
      "include_colab_link": true
    },
    "kernelspec": {
      "display_name": "Python 3",
      "name": "python3"
    },
    "language_info": {
      "name": "python"
    }
  },
  "nbformat": 4,
  "nbformat_minor": 0
}