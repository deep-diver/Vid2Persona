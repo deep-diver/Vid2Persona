{
  "cells": [
    {
      "cell_type": "markdown",
      "metadata": {
        "id": "view-in-github",
        "colab_type": "text"
      },
      "source": [
        "<a href=\"https://colab.research.google.com/github/deep-diver/Vid2Persona/blob/ipynb%2Fvid2desc/notebooks/Vid2Desc_Gemini_1_0_Pro_Vision.ipynb\" target=\"_parent\"><img src=\"https://colab.research.google.com/assets/colab-badge.svg\" alt=\"Open In Colab\"/></a>"
      ]
    },
    {
      "cell_type": "markdown",
      "metadata": {
        "id": "ddSBgL68Zu8j"
      },
      "source": [
        "# Ask about Video clip with Gemini 1.0 Pro Vision on Vertex AI"
      ]
    },
    {
      "cell_type": "code",
      "execution_count": null,
      "metadata": {
        "id": "Rx6vrvyfBDcd"
      },
      "outputs": [],
      "source": [
        "!pip install --upgrade google-cloud-aiplatform"
      ]
    },
    {
      "cell_type": "markdown",
      "metadata": {
        "id": "u1IQpbbTZ60q"
      },
      "source": [
        "## Authentication to Vertex AI with `gcloud`"
      ]
    },
    {
      "cell_type": "code",
      "execution_count": null,
      "metadata": {
        "id": "Fv1mYIWcD9dB"
      },
      "outputs": [],
      "source": [
        "!gcloud auth application-default login\n",
        "\n",
        "# or do the same thing without interrupting prompt\n",
        "#\n",
        "# export GOOGLE_APPLICATION_CREDENTIALS=\"/path/to/your/service_account_key.json\"\n",
        "# gcloud auth application-default login --client-id-file=/path/to/your/service_account_key.json"
      ]
    },
    {
      "cell_type": "markdown",
      "metadata": {
        "id": "Ai1E5s7XaC04"
      },
      "source": [
        "## Setup GCP Project and Location"
      ]
    },
    {
      "cell_type": "code",
      "execution_count": null,
      "metadata": {
        "id": "N5fpTuQhCnN5"
      },
      "outputs": [],
      "source": [
        "GCP_PROJECT_ID=\"gde-prj\"\n",
        "GCP_PROJECT_LOCATION=\"us-central1\""
      ]
    },
    {
      "cell_type": "markdown",
      "metadata": {
        "id": "nakhkiwYaIXz"
      },
      "source": [
        "## Call Gemini 1.0 Pro Vision"
      ]
    },
    {
      "cell_type": "markdown",
      "metadata": {
        "id": "JfTetkgpcQ5n"
      },
      "source": [
        "### Define general function"
      ]
    },
    {
      "cell_type": "code",
      "execution_count": null,
      "metadata": {
        "id": "-oCtUjGDBVYr"
      },
      "outputs": [],
      "source": [
        "import base64\n",
        "import vertexai\n",
        "from vertexai.generative_models import GenerativeModel, Part, GenerationResponse\n",
        "\n",
        "def initi_vertexai(project_id: str, location: str) -> None:\n",
        "    vertexai.init(project=project_id, location=location)\n",
        "\n",
        "def ask_gemini(\n",
        "    prompt: str=None, gcs: str=None, base64_encoded: bytes=None, stream: bool=False, generation_config: dict=None\n",
        ") -> GenerationResponse:\n",
        "    if gcs is None and base64_encoded is None:\n",
        "        raise ValueError(\"Either a GCS bucket path or base64_encoded string of the video must be provided\")\n",
        "\n",
        "    if gcs is not None and base64_encoded is not None:\n",
        "        raise ValueError(\"Only one of gcs or base64_encoded must be provided\")\n",
        "\n",
        "    if gcs is not None:\n",
        "        video = Part.from_uri(gcs, mime_type=\"video/mp4\")\n",
        "    else:\n",
        "        video = Part.from_data(data=base64_encoded, mime_type=\"video/mp4\")\n",
        "\n",
        "    if prompt is None:\n",
        "        prompt = \"What is in the video?\"\n",
        "\n",
        "    if generation_config is None:\n",
        "        generation_config={\n",
        "            \"max_output_tokens\": 2048,\n",
        "            \"temperature\": 0.4,\n",
        "            \"top_p\": 1,\n",
        "            \"top_k\": 32\n",
        "        },\n",
        "\n",
        "    vision_model = GenerativeModel(\"gemini-1.0-pro-vision\")\n",
        "    return vision_model.generate_content(\n",
        "        [video, prompt],\n",
        "        generation_config=generation_config, stream=stream\n",
        "    )"
      ]
    },
    {
      "cell_type": "markdown",
      "metadata": {
        "id": "RVl-dI-Qc5eG"
      },
      "source": [
        "### Ask about video on GCS with non-streamining mode"
      ]
    },
    {
      "cell_type": "code",
      "execution_count": null,
      "metadata": {
        "id": "6T8cBE6-CH15"
      },
      "outputs": [],
      "source": [
        "initi_vertexai(GCP_PROJECT_ID, GCP_PROJECT_LOCATION)\n",
        "try:\n",
        "    response = ask_gemini(gcs=\"gs://cloud-samples-data/video/animals.mp4\")\n",
        "except:\n",
        "    print(\"something went wrong\")"
      ]
    },
    {
      "cell_type": "code",
      "execution_count": null,
      "metadata": {
        "colab": {
          "base_uri": "https://localhost:8080/"
        },
        "id": "4hbpvEoocVMB",
        "outputId": "544b2aef-f57b-40bd-bb91-a5c7a589b35b"
      },
      "outputs": [
        {
          "name": "stdout",
          "output_type": "stream",
          "text": [
            " The video is an advertisement for the movie Zootopia. It features a sloth, a fox, and a rabbit taking selfies with a Google Pixel phone. The ad highlights the phone's camera quality and its ability to take great photos even in low-light conditions. The ad also features the tagline \"See more at g.co/ZootopiaSelfies\".\n"
          ]
        }
      ],
      "source": [
        "print(response.text)"
      ]
    },
    {
      "cell_type": "markdown",
      "metadata": {
        "id": "eRskB88ydIOm"
      },
      "source": [
        "### Ask about video on GCS with streamining mode"
      ]
    },
    {
      "cell_type": "code",
      "execution_count": null,
      "metadata": {
        "id": "rb7mjBMYdIr8"
      },
      "outputs": [],
      "source": [
        "initi_vertexai(GCP_PROJECT_ID, GCP_PROJECT_LOCATION)\n",
        "try:\n",
        "    response = ask_gemini(gcs=\"gs://cloud-samples-data/video/animals.mp4\", stream=True)\n",
        "except:\n",
        "    print(\"something went wrong\")"
      ]
    },
    {
      "cell_type": "code",
      "execution_count": null,
      "metadata": {
        "colab": {
          "base_uri": "https://localhost:8080/"
        },
        "id": "7J2xWr_7FZrP",
        "outputId": "91623edd-8420-43aa-dd09-cc4e9fd56295"
      },
      "outputs": [
        {
          "name": "stdout",
          "output_type": "stream",
          "text": [
            " It is a commercial for the movie Zootopia. It shows a sloth, a fox, and a rabbit in a city. It also shows a tiger,\n",
            "\n",
            " an elephant, and a seal. The animals are taking pictures of each other. The commercial is funny because it shows the animals doing human things.\n",
            "\n"
          ]
        }
      ],
      "source": [
        "for response_piece in response:\n",
        "    print(response_piece.text)\n",
        "    print()"
      ]
    },
    {
      "cell_type": "markdown",
      "metadata": {
        "id": "cwpowCPQdavV"
      },
      "source": [
        "### Ask about based64 encoded video with non-streamining mode"
      ]
    },
    {
      "cell_type": "code",
      "execution_count": null,
      "metadata": {
        "colab": {
          "base_uri": "https://localhost:8080/"
        },
        "id": "B-GUyCKlGDki",
        "outputId": "31b630d8-904a-408c-eb46-fc9da85db6d5"
      },
      "outputs": [
        {
          "name": "stdout",
          "output_type": "stream",
          "text": [
            "Copying gs://cloud-samples-data/video/animals.mp4...\n",
            "/ [1 files][ 16.1 MiB/ 16.1 MiB]                                                \n",
            "Operation completed over 1 objects/16.1 MiB.                                     \n"
          ]
        }
      ],
      "source": [
        "!gsutil cp gs://cloud-samples-data/video/animals.mp4 ./"
      ]
    },
    {
      "cell_type": "code",
      "execution_count": null,
      "metadata": {
        "id": "qTxsGOUjGDiq"
      },
      "outputs": [],
      "source": [
        "import base64\n",
        "\n",
        "with open(\"animals.mp4\", \"rb\") as video_file:\n",
        "    video_data = video_file.read()\n",
        "\n",
        "encoded_string = base64.b64encode(video_data)"
      ]
    },
    {
      "cell_type": "code",
      "execution_count": null,
      "metadata": {
        "colab": {
          "base_uri": "https://localhost:8080/"
        },
        "id": "PO7WgZ0bG0Vh",
        "outputId": "6262c8a1-32f1-4668-fe54-dbddb4326ecb"
      },
      "outputs": [
        {
          "name": "stdout",
          "output_type": "stream",
          "text": [
            " The video is an advertisement for the movie Zootopia. It features a sloth, a fox, and a rabbit taking selfies with a Google Pixel phone. The ad highlights the phone's camera quality and its ability to take great photos even in low-light conditions. The video ends with the tagline \"See more at g.co/ZootopiaSelfies\".\n"
          ]
        }
      ],
      "source": [
        "initi_vertexai(GCP_PROJECT_ID, GCP_PROJECT_LOCATION)\n",
        "try:\n",
        "    response = ask_gemini(base64_encoded=encoded_string)\n",
        "    print(response.text)\n",
        "except:\n",
        "    print(\"something went wrong\")"
      ]
    },
    {
      "cell_type": "markdown",
      "metadata": {
        "id": "9Wetio-1d4yP"
      },
      "source": [
        "### Ask about based64 encoded video with streamining mode"
      ]
    },
    {
      "cell_type": "code",
      "execution_count": null,
      "metadata": {
        "colab": {
          "base_uri": "https://localhost:8080/"
        },
        "id": "9xJ1xPVAdvh4",
        "outputId": "8f555e0d-57e0-41b3-f69d-206d0084e6d3"
      },
      "outputs": [
        {
          "name": "stdout",
          "output_type": "stream",
          "text": [
            " This is a commercial for the movie Zootopia. It features a sloth, a fox, and a rabbit taking selfies at the Los Angeles Zoo. The commercial\n",
            "\n",
            " was released in 2016.\n",
            "\n"
          ]
        }
      ],
      "source": [
        "initi_vertexai(GCP_PROJECT_ID, GCP_PROJECT_LOCATION)\n",
        "try:\n",
        "    response = ask_gemini(base64_encoded=encoded_string, stream=True)\n",
        "except:\n",
        "    print(\"something went wrong\")\n",
        "\n",
        "for response_piece in response:\n",
        "    print(response_piece.text)\n",
        "    print()"
      ]
    },
    {
      "cell_type": "code",
      "execution_count": null,
      "metadata": {
        "id": "liEmsS4teEkE"
      },
      "outputs": [],
      "source": []
    }
  ],
  "metadata": {
    "colab": {
      "provenance": [],
      "include_colab_link": true
    },
    "kernelspec": {
      "display_name": "Python 3",
      "name": "python3"
    },
    "language_info": {
      "name": "python"
    }
  },
  "nbformat": 4,
  "nbformat_minor": 0
}